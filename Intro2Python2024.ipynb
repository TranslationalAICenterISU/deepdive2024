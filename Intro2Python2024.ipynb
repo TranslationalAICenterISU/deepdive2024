{
  "nbformat": 4,
  "nbformat_minor": 0,
  "metadata": {
    "colab": {
      "provenance": []
    },
    "kernelspec": {
      "name": "python3",
      "display_name": "Python 3"
    },
    "language_info": {
      "name": "python"
    }
  },
  "cells": [
    {
      "cell_type": "code",
      "execution_count": 3,
      "metadata": {
        "colab": {
          "base_uri": "https://localhost:8080/"
        },
        "id": "kaYAgqJeN6Pz",
        "outputId": "31be9edc-b0d6-44fd-c0f3-d14b155613e4"
      },
      "outputs": [
        {
          "output_type": "stream",
          "name": "stdout",
          "text": [
            "Yes\n"
          ]
        }
      ],
      "source": [
        "x = 1.0\n",
        "y = 4.0\n",
        "z = 2.0\n",
        "\n",
        "if (x < z) or (y < z):\n",
        "    print('Yes')\n",
        "else:\n",
        "    print('No')"
      ]
    },
    {
      "cell_type": "code",
      "source": [
        "class Bootcamp():\n",
        "    def __init__(self) -> None:\n",
        "        self.var1 = 'Hello'\n",
        "        self.var2 = \"World\"\n",
        "        print('Initialization')\n",
        "        self.items = {}\n",
        "\n",
        "    def __len__(self):\n",
        "        return len(self.items)\n",
        "\n",
        "    def __getitem__(self, idx):\n",
        "        return self.items[idx]\n",
        "\n",
        "    def __repr__(self) -> str:\n",
        "        return str(self.items)\n",
        "\n",
        "    def __add__(self, ob2):\n",
        "        return self.items + ob2"
      ],
      "metadata": {
        "id": "YGr1CD61N8n5"
      },
      "execution_count": 12,
      "outputs": []
    },
    {
      "cell_type": "code",
      "source": [
        "obj1 = Bootcamp()"
      ],
      "metadata": {
        "colab": {
          "base_uri": "https://localhost:8080/"
        },
        "id": "TgA1sn7uwPmF",
        "outputId": "a074a1fe-e636-431d-95c3-ca6d7ea287db"
      },
      "execution_count": 13,
      "outputs": [
        {
          "output_type": "stream",
          "name": "stdout",
          "text": [
            "Initialization\n"
          ]
        }
      ]
    },
    {
      "cell_type": "code",
      "source": [
        "print(obj1)"
      ],
      "metadata": {
        "colab": {
          "base_uri": "https://localhost:8080/"
        },
        "id": "fhXLvkHkwX1Y",
        "outputId": "24ea8060-519a-4dd6-df11-bdace58f0a7f"
      },
      "execution_count": 14,
      "outputs": [
        {
          "output_type": "stream",
          "name": "stdout",
          "text": [
            "Hello World\n"
          ]
        }
      ]
    },
    {
      "cell_type": "code",
      "source": [
        "list1 = list(range(10))"
      ],
      "metadata": {
        "id": "Dtg3UUM2wZic"
      },
      "execution_count": 15,
      "outputs": []
    },
    {
      "cell_type": "code",
      "source": [
        "print(list1[0] + [2])"
      ],
      "metadata": {
        "colab": {
          "base_uri": "https://localhost:8080/"
        },
        "id": "Vp0Y4Odpw20l",
        "outputId": "40be7a89-33ec-4674-f788-68a9ea0ebff1"
      },
      "execution_count": 19,
      "outputs": [
        {
          "output_type": "stream",
          "name": "stdout",
          "text": [
            "[0, 1, 2, 3, 4, 5, 6, 7, 8, 9, 2]\n"
          ]
        }
      ]
    },
    {
      "cell_type": "code",
      "source": [
        "class Robot:\n",
        "    def __init__(self) -> None:\n",
        "        self.current_position = (0,0)\n",
        "        self.current_direction = (1,0)\n",
        "        self.current_time = 0.0\n",
        "        self.speed = 0.5\n",
        "\n",
        "    def __repr__(self) -> str:\n",
        "        return \"Current position: {}, Current direction: {}, Current time: {}\".format(self.current_position, self.current_direction, self.current_time)\n",
        "\n",
        "    def wait(self, time):\n",
        "        self.current_time += time\n",
        "\n",
        "    def move_forward(self, time):\n",
        "        self.current_time += time\n",
        "        self.current_position[0] += self.current_direction[0]*self.speed*time\n",
        "        self.current_position[1] += self.current_direction[1]*self.speed*time\n",
        "\n",
        "    def rotate_right(self):\n",
        "        if self.current_direction == (1,0):\n",
        "            self.current_direction = (0,-1)\n",
        "        elif self.current_direction == (0,1):\n",
        "            self.current_direction = (1,0)\n",
        "        elif self.current_direction == (-1,0):\n",
        "            self.current_direction = (0,1)\n",
        "\n",
        "    def rotate_left(self):\n",
        "\n"
      ],
      "metadata": {
        "id": "Py160sPBw3x_"
      },
      "execution_count": 22,
      "outputs": []
    },
    {
      "cell_type": "code",
      "source": [
        "r = Robot()\n",
        "print(r)"
      ],
      "metadata": {
        "colab": {
          "base_uri": "https://localhost:8080/"
        },
        "id": "FQ3_MeN2598Q",
        "outputId": "b394c421-45ce-429d-a944-37ff7f7cbbb2"
      },
      "execution_count": 23,
      "outputs": [
        {
          "output_type": "stream",
          "name": "stdout",
          "text": [
            "Current position: (0, 0), Current direction: (1, 0), Current time: 0.0\n"
          ]
        }
      ]
    },
    {
      "cell_type": "code",
      "source": [
        "def move_square(side_length):\n",
        "    r = Robot()\n",
        "    r.move_forward(side_length/r.speed)\n",
        "    r.rotate_left()\n",
        "    r.move_forward(side_length/r.speed)\n",
        "    r.rotate_left()\n",
        "    r.move_forward(side_length/r.speed)\n",
        "    r.rotate_left()\n",
        "    r.move_forward(side_length/r.speed)"
      ],
      "metadata": {
        "id": "gXp9AGyC6CHp"
      },
      "execution_count": 25,
      "outputs": []
    },
    {
      "cell_type": "code",
      "source": [
        "import numpy as np"
      ],
      "metadata": {
        "id": "O7jKiqxKCr01"
      },
      "execution_count": 1,
      "outputs": []
    },
    {
      "cell_type": "code",
      "source": [
        "a = np.random.rand(100,200,3)\n",
        "b = np.random.rand(1,200,1)\n",
        "c = a + b"
      ],
      "metadata": {
        "id": "rOP6vJKxCs_a"
      },
      "execution_count": 2,
      "outputs": []
    },
    {
      "cell_type": "code",
      "source": [
        "images = np.random.rand(100, 512, 512, 3)"
      ],
      "metadata": {
        "id": "-ZFChNA8C0j9"
      },
      "execution_count": 4,
      "outputs": []
    },
    {
      "cell_type": "code",
      "source": [
        "def time1():\n",
        "    images = np.random.rand(1000, 64, 64, 3)\n",
        "    for i in range(images.shape[0]):\n",
        "        images[i,:,:,:] = images[i,:,:,:]/np.mean(images[i,:,:,:])\n",
        "\n",
        "def time2():\n",
        "    images = np.random.rand(1000, 64, 64, 3)\n",
        "    images = images/np.mean(images,axis=(1,2,3))[:,np.newaxis,np.newaxis,np.newaxis]"
      ],
      "metadata": {
        "id": "c-891A0ZDQG7"
      },
      "execution_count": 5,
      "outputs": []
    },
    {
      "cell_type": "code",
      "source": [
        "np.mean(images,axis=(1,2,3)).shape"
      ],
      "metadata": {
        "colab": {
          "base_uri": "https://localhost:8080/"
        },
        "id": "Ip_LLMouD44m",
        "outputId": "e83b8e94-d2db-4724-ceb6-c746749c4aea"
      },
      "execution_count": 6,
      "outputs": [
        {
          "output_type": "execute_result",
          "data": {
            "text/plain": [
              "(100,)"
            ]
          },
          "metadata": {},
          "execution_count": 6
        }
      ]
    },
    {
      "cell_type": "code",
      "source": [
        "%%timeit\n",
        "time1()"
      ],
      "metadata": {
        "colab": {
          "base_uri": "https://localhost:8080/"
        },
        "id": "eYcWuNJKD7IF",
        "outputId": "faeca390-fada-4cfe-bad0-0a7e131e195d"
      },
      "execution_count": 8,
      "outputs": [
        {
          "output_type": "stream",
          "name": "stdout",
          "text": [
            "11.3 s ± 541 ms per loop (mean ± std. dev. of 7 runs, 1 loop each)\n"
          ]
        }
      ]
    },
    {
      "cell_type": "code",
      "source": [
        "%%timeit\n",
        "time2()"
      ],
      "metadata": {
        "colab": {
          "base_uri": "https://localhost:8080/"
        },
        "id": "7LUb8BgwEGOK",
        "outputId": "7c79f122-a2d0-41f9-85f5-6ccb389a8040"
      },
      "execution_count": 6,
      "outputs": [
        {
          "output_type": "stream",
          "name": "stdout",
          "text": [
            "187 ms ± 27.7 ms per loop (mean ± std. dev. of 7 runs, 1 loop each)\n"
          ]
        }
      ]
    },
    {
      "cell_type": "code",
      "source": [],
      "metadata": {
        "id": "UC-IqkSDEhey"
      },
      "execution_count": null,
      "outputs": []
    }
  ]
}